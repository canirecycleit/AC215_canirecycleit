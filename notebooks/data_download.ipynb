{
 "cells": [
  {
   "cell_type": "markdown",
   "source": [
    "# Data Download Examples"
   ],
   "metadata": {}
  },
  {
   "cell_type": "code",
   "execution_count": 26,
   "source": [
    "%load_ext autoreload\n",
    "%autoreload 2\n",
    "\n",
    "from dotenv import load_dotenv\n",
    "load_dotenv()"
   ],
   "outputs": [
    {
     "output_type": "stream",
     "name": "stdout",
     "text": [
      "The autoreload extension is already loaded. To reload it, use:\n",
      "  %reload_ext autoreload\n"
     ]
    },
    {
     "output_type": "execute_result",
     "data": {
      "text/plain": [
       "True"
      ]
     },
     "metadata": {},
     "execution_count": 26
    }
   ],
   "metadata": {}
  },
  {
   "cell_type": "code",
   "execution_count": 27,
   "source": [
    "from src.utils import download_data_file, KaggleDownloader"
   ],
   "outputs": [],
   "metadata": {}
  },
  {
   "cell_type": "markdown",
   "source": [
    "## Trashnet Classification dataset"
   ],
   "metadata": {}
  },
  {
   "cell_type": "code",
   "execution_count": 19,
   "source": [
    "download_data_file( \n",
    "    url=\"https://github.com/garythung/trashnet/raw/master/data/dataset-resized.zip\",\n",
    "    dest=\"../data\",\n",
    "    extract=True)"
   ],
   "outputs": [
    {
     "output_type": "stream",
     "name": "stdout",
     "text": [
      "Using HttpDownloader to download https://github.com/garythung/trashnet/raw/master/data/dataset-resized.zip to ../data\n"
     ]
    }
   ],
   "metadata": {}
  },
  {
   "cell_type": "markdown",
   "source": [
    "## Portland State University Recyling Image Classification dataset"
   ],
   "metadata": {}
  },
  {
   "cell_type": "code",
   "execution_count": 29,
   "source": [
    "download_data_file(\n",
    "    url=\"arkadiyhacks/drinking-waste-classification\",\n",
    "    dest=\"../data\",\n",
    "    clz=KaggleDownloader,\n",
    "    extract=True\n",
    ")"
   ],
   "outputs": [
    {
     "output_type": "stream",
     "name": "stdout",
     "text": [
      "Using KaggleDownloader to download arkadiyhacks/drinking-waste-classification to ../data\n"
     ]
    }
   ],
   "metadata": {}
  },
  {
   "cell_type": "markdown",
   "source": [
    "## Waste Classification dataset"
   ],
   "metadata": {}
  },
  {
   "cell_type": "code",
   "execution_count": null,
   "source": [
    "download_data_file(\n",
    "    url=\"techsash/waste-classification-data\",\n",
    "    dest=\"../data\",\n",
    "    clz=KaggleDownloader,\n",
    "    extract=True\n",
    ")"
   ],
   "outputs": [],
   "metadata": {}
  }
 ],
 "metadata": {
  "orig_nbformat": 4,
  "language_info": {
   "name": "python",
   "version": "3.7.10",
   "mimetype": "text/x-python",
   "codemirror_mode": {
    "name": "ipython",
    "version": 3
   },
   "pygments_lexer": "ipython3",
   "nbconvert_exporter": "python",
   "file_extension": ".py"
  },
  "kernelspec": {
   "name": "python3",
   "display_name": "Python 3.7.10 64-bit ('ciri': conda)"
  },
  "interpreter": {
   "hash": "5815cace0472241ba401236216437679f291b784307287d017bbfbe0a23dbbeb"
  }
 },
 "nbformat": 4,
 "nbformat_minor": 2
}