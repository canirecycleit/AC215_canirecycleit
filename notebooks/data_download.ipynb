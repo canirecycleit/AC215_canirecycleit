{
 "cells": [
  {
   "cell_type": "markdown",
   "metadata": {},
   "source": [
    "# Data Download Examples"
   ]
  },
  {
   "cell_type": "code",
   "execution_count": null,
   "metadata": {},
   "outputs": [],
   "source": [
    "%load_ext autoreload\n",
    "%autoreload 2\n",
    "\n",
    "from dotenv import load_dotenv\n",
    "load_dotenv()"
   ]
  },
  {
   "cell_type": "code",
   "execution_count": 5,
   "metadata": {},
   "outputs": [],
   "source": [
    "from src.utils import download_data_file, KaggleDownloader, GoogleCloudStorageDownloader"
   ]
  },
  {
   "cell_type": "markdown",
   "metadata": {},
   "source": [
    "## CanIRecylceIt Merged Dataset"
   ]
  },
  {
   "cell_type": "code",
   "execution_count": null,
   "metadata": {},
   "outputs": [],
   "source": [
    "download_data_file( \n",
    "    url=\"https://storage.googleapis.com/canirecycleit-data/\",\n",
    "    dest=\"../data\",\n",
    "    extract=True)"
   ]
  },
  {
   "cell_type": "markdown",
   "metadata": {},
   "source": [
    "## Trashnet Classification dataset"
   ]
  },
  {
   "cell_type": "code",
   "execution_count": null,
   "metadata": {},
   "outputs": [],
   "source": [
    "download_data_file( \n",
    "    url=\"https://github.com/garythung/trashnet/raw/master/data/dataset-resized.zip\",\n",
    "    dest=\"../data\",\n",
    "    extract=True)"
   ]
  },
  {
   "cell_type": "markdown",
   "metadata": {},
   "source": [
    "## Portland State University Recyling Image Classification dataset"
   ]
  },
  {
   "cell_type": "code",
   "execution_count": null,
   "metadata": {},
   "outputs": [],
   "source": [
    "download_data_file(\n",
    "    url=\"arkadiyhacks/drinking-waste-classification\",\n",
    "    dest=\"../data\",\n",
    "    clz=KaggleDownloader,\n",
    "    extract=True\n",
    ")"
   ]
  },
  {
   "cell_type": "markdown",
   "metadata": {},
   "source": [
    "## Waste Classification dataset"
   ]
  },
  {
   "cell_type": "code",
   "execution_count": 6,
   "metadata": {},
   "outputs": [
    {
     "name": "stdout",
     "output_type": "stream",
     "text": [
      "Using KaggleDownloader to download techsash/waste-classification-data to ../data\n"
     ]
    }
   ],
   "source": [
    "download_data_file(\n",
    "    url=\"techsash/waste-classification-data\",\n",
    "    dest=\"../data\",\n",
    "    clz=KaggleDownloader,\n",
    "    extract=True\n",
    ")"
   ]
  },
  {
   "cell_type": "code",
   "execution_count": null,
   "metadata": {},
   "outputs": [],
   "source": []
  }
 ],
 "metadata": {
  "interpreter": {
   "hash": "5815cace0472241ba401236216437679f291b784307287d017bbfbe0a23dbbeb"
  },
  "kernelspec": {
   "display_name": "Python 3.7.10 64-bit ('ciri': conda)",
   "name": "python3"
  },
  "language_info": {
   "codemirror_mode": {
    "name": "ipython",
    "version": 3
   },
   "file_extension": ".py",
   "mimetype": "text/x-python",
   "name": "python",
   "nbconvert_exporter": "python",
   "pygments_lexer": "ipython3",
   "version": "3.7.10"
  },
  "orig_nbformat": 4
 },
 "nbformat": 4,
 "nbformat_minor": 2
}
